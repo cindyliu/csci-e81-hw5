{
 "cells": [
  {
   "cell_type": "markdown",
   "metadata": {},
   "source": [
    "# CSCI E-81 HW5 - Partners: Piyawan Chirayus and Cindy Liu"
   ]
  },
  {
   "cell_type": "code",
   "execution_count": 484,
   "metadata": {
    "collapsed": false
   },
   "outputs": [
    {
     "name": "stdout",
     "output_type": "stream",
     "text": [
      "[nltk_data] Downloading package stopwords to\n",
      "[nltk_data]     /Users/cindy.liu/nltk_data...\n",
      "[nltk_data]   Unzipping corpora/stopwords.zip.\n"
     ]
    }
   ],
   "source": [
    "import re\n",
    "import requests  # pip install requests\n",
    "from bs4 import BeautifulSoup\n",
    "\n",
    "%matplotlib inline\n",
    "import numpy as np\n",
    "import scipy as sp\n",
    "import pandas as pd\n",
    "\n",
    "from sklearn import cluster\n",
    "from sklearn.cluster import KMeans\n",
    "from sklearn import metrics\n",
    "from sklearn.metrics import silhouette_samples, silhouette_score\n",
    "from sklearn.metrics.pairwise import cosine_similarity, euclidean_distances\n",
    "from sklearn.feature_extraction.text import TfidfVectorizer\n",
    "from sklearn.manifold import MDS\n",
    "\n",
    "import nltk\n",
    "from nltk.corpus import stopwords\n",
    "from nltk.stem.porter import PorterStemmer\n",
    "nltk.download('stopwords')\n",
    "\n",
    "import matplotlib.pyplot as plt\n",
    "from mpl_toolkits.mplot3d import Axes3D\n",
    "\n",
    "from sklearn.discriminant_analysis import LinearDiscriminantAnalysis\n",
    "from sklearn.metrics import accuracy_score\n",
    "from sklearn.cross_validation import train_test_split\n",
    "\n",
    "VERBOSE = True"
   ]
  },
  {
   "cell_type": "markdown",
   "metadata": {},
   "source": [
    "<a id='top'></a>"
   ]
  },
  {
   "cell_type": "markdown",
   "metadata": {},
   "source": [
    "## Table of Contents\n",
    "- [Loading data](#loading-data)\n",
    "- [Data processing](#data-processing)\n",
    "- [Stemming](#stemming)\n",
    "- [Feature extraction using TF-IDF](#tf-idf)\n",
    "- [MDS](#mds)"
   ]
  },
  {
   "cell_type": "markdown",
   "metadata": {},
   "source": [
    "<a id='loading-data'></a>\n",
    "[back to top](#top)"
   ]
  },
  {
   "cell_type": "markdown",
   "metadata": {},
   "source": [
    "## Loading data"
   ]
  },
  {
   "cell_type": "code",
   "execution_count": 478,
   "metadata": {
    "collapsed": false
   },
   "outputs": [
    {
     "data": {
      "text/html": [
       "<div>\n",
       "<table border=\"1\" class=\"dataframe\">\n",
       "  <thead>\n",
       "    <tr style=\"text-align: right;\">\n",
       "      <th></th>\n",
       "      <th>Speaker</th>\n",
       "      <th>Gender</th>\n",
       "      <th>NumLines</th>\n",
       "      <th>Play</th>\n",
       "      <th>TopVillain</th>\n",
       "      <th>Fools</th>\n",
       "    </tr>\n",
       "  </thead>\n",
       "  <tbody>\n",
       "    <tr>\n",
       "      <th>0</th>\n",
       "      <td>Hamlet</td>\n",
       "      <td>Male</td>\n",
       "      <td>1506</td>\n",
       "      <td>Hamlet</td>\n",
       "      <td>NaN</td>\n",
       "      <td>NaN</td>\n",
       "    </tr>\n",
       "    <tr>\n",
       "      <th>1</th>\n",
       "      <td>Iago</td>\n",
       "      <td>Male</td>\n",
       "      <td>1088</td>\n",
       "      <td>Othello</td>\n",
       "      <td>yes</td>\n",
       "      <td>NaN</td>\n",
       "    </tr>\n",
       "    <tr>\n",
       "      <th>2</th>\n",
       "      <td>King Henry</td>\n",
       "      <td>Male</td>\n",
       "      <td>1031</td>\n",
       "      <td>Henry V</td>\n",
       "      <td>NaN</td>\n",
       "      <td>NaN</td>\n",
       "    </tr>\n",
       "    <tr>\n",
       "      <th>3</th>\n",
       "      <td>Othello</td>\n",
       "      <td>Male</td>\n",
       "      <td>880</td>\n",
       "      <td>Othello</td>\n",
       "      <td>NaN</td>\n",
       "      <td>NaN</td>\n",
       "    </tr>\n",
       "    <tr>\n",
       "      <th>4</th>\n",
       "      <td>Timon</td>\n",
       "      <td>Male</td>\n",
       "      <td>850</td>\n",
       "      <td>Timon of Athens</td>\n",
       "      <td>NaN</td>\n",
       "      <td>NaN</td>\n",
       "    </tr>\n",
       "  </tbody>\n",
       "</table>\n",
       "</div>"
      ],
      "text/plain": [
       "      Speaker Gender  NumLines             Play TopVillain Fools\n",
       "0      Hamlet   Male      1506           Hamlet        NaN   NaN\n",
       "1        Iago   Male      1088          Othello        yes   NaN\n",
       "2  King Henry   Male      1031          Henry V        NaN   NaN\n",
       "3     Othello   Male       880          Othello        NaN   NaN\n",
       "4       Timon   Male       850  Timon of Athens        NaN   NaN"
      ]
     },
     "execution_count": 478,
     "metadata": {},
     "output_type": "execute_result"
    }
   ],
   "source": [
    "ref = pd.read_table('Shakespeare_characters.txt', header=0, encoding='latin-1')\n",
    "del ref['Unnamed: 1']\n",
    "ref = ref.set_value((ref.Speaker == 'Lafew').argmax(), 'Speaker', 'Lafeu')\n",
    "ref.head()"
   ]
  },
  {
   "cell_type": "code",
   "execution_count": 461,
   "metadata": {
    "collapsed": false,
    "scrolled": false
   },
   "outputs": [
    {
     "name": "stdout",
     "output_type": "stream",
     "text": [
      "Getting documents.....................................Done! Retrieved 37 documents.\n"
     ]
    }
   ],
   "source": [
    "BASE_URL = 'http://shakespeare.mit.edu/'\n",
    "\n",
    "r = requests.get(BASE_URL)\n",
    "assert(r.status_code == 200)\n",
    "\n",
    "soup = BeautifulSoup(r.content, 'html.parser')\n",
    "table = soup.find_all('table')[1]\n",
    "titles = {}\n",
    "num_titles = 0\n",
    "if not VERBOSE:\n",
    "    print('Getting documents', end='')\n",
    "for link in table.find_all('a'):\n",
    "    if 'Poetry' not in link.get('href'):\n",
    "        if '\\n' in link.string:\n",
    "            link.string = link.string.replace('\\n', ' ').strip()\n",
    "        href = link.get('href').replace('index', 'full')\n",
    "        send_url = BASE_URL + href\n",
    "        if VERBOSE:\n",
    "            print('Getting {} from {}'.format(link.string, send_url))\n",
    "        else:\n",
    "            print('.', end='')\n",
    "        num_titles += 1\n",
    "        r = requests.get(send_url)\n",
    "        assert(r.status_code == 200)\n",
    "        titles[link.string] = {\n",
    "            'href': href,\n",
    "            'soup': BeautifulSoup(r.content, 'html.parser')\n",
    "        }\n",
    "print('Done! Retrieved {} documents.'.format(num_titles))"
   ]
  },
  {
   "cell_type": "markdown",
   "metadata": {},
   "source": [
    "<a id='data-processing'></a>\n",
    "[back to top](#top)"
   ]
  },
  {
   "cell_type": "markdown",
   "metadata": {},
   "source": [
    "## Processing raw documents into data frame"
   ]
  },
  {
   "cell_type": "code",
   "execution_count": 462,
   "metadata": {
    "collapsed": false,
    "scrolled": false
   },
   "outputs": [
    {
     "name": "stdout",
     "output_type": "stream",
     "text": [
      "Processing documents."
     ]
    },
    {
     "name": "stderr",
     "output_type": "stream",
     "text": [
      "/Users/cindy.liu/Desktop/cindy/e81/e81-venv/lib/python3.5/site-packages/ipykernel/__main__.py:6: UserWarning: Boolean Series key will be reindexed to match DataFrame index.\n"
     ]
    },
    {
     "name": "stdout",
     "output_type": "stream",
     "text": [
      "....................................Done! Processed 37 documents.\n"
     ]
    }
   ],
   "source": [
    "COLUMN_NAMES = ['Title','Act','Scene','Speaker','Words']\n",
    "\n",
    "\n",
    "def add_data(df, title, act, scene, speaker, words):\n",
    "    if speaker in df.Speaker.values:\n",
    "        indices = list(df[df.Title == title][df.Act == act][df.Scene == scene][df.Speaker == speaker].index)\n",
    "        if len(indices) == 1:\n",
    "            index = indices[0]\n",
    "            df.set_value(index, 'Words', df.Words[index] + ' ' + words)\n",
    "            return df\n",
    "        elif len(indices) > 1:\n",
    "            print(title, act, scene, speaker, indices)\n",
    "            return df\n",
    "    new_row = pd.DataFrame([[title, act, scene, speaker, words]], columns=COLUMN_NAMES)\n",
    "    df = df.append(new_row, ignore_index=True)\n",
    "    return df\n",
    "\n",
    "\n",
    "data = pd.DataFrame([], columns=COLUMN_NAMES)\n",
    "num_processed = 0\n",
    "\n",
    "if not VERBOSE:\n",
    "    print('Processing documents', end='')\n",
    "for title in titles:\n",
    "    if VERBOSE:\n",
    "        print(title)\n",
    "    else:\n",
    "        print('.', end='')\n",
    "    act = titles[title]['soup'].find('h3')\n",
    "    scene = speaker = words = ''\n",
    "    if act.string[:3] != 'ACT':\n",
    "        scene = act.string.split('.')[0]\n",
    "        act.string = 'None'\n",
    "    for elem in act.next_elements:\n",
    "        if elem.name == 'h3':\n",
    "            if words:\n",
    "                data = add_data(data, title, act.string, scene, speaker, words)\n",
    "                words = ''\n",
    "            if elem.string[:3] == 'ACT':\n",
    "                act = elem\n",
    "            else:\n",
    "                scene = elem.string.split('.')[0]\n",
    "        if elem.name == 'a':\n",
    "            if elem.attrs['name'][:6] == 'speech':\n",
    "                if words:\n",
    "                    data = add_data(data, title, act.string, scene, speaker, words)\n",
    "                    words = ''\n",
    "                speaker = elem.string.lower()\n",
    "            else:\n",
    "                if words:\n",
    "                    words += ' ' + elem.string.strip()\n",
    "                else:\n",
    "                    words += elem.string.strip()\n",
    "    num_processed += 1\n",
    "print('Done! Processed {} documents.'.format(num_processed))"
   ]
  },
  {
   "cell_type": "code",
   "execution_count": 479,
   "metadata": {
    "collapsed": false
   },
   "outputs": [
    {
     "name": "stdout",
     "output_type": "stream",
     "text": [
      "DataFrame dimensions: (3974, 5)\n",
      "Reference dimensions: (1533, 6)\n"
     ]
    },
    {
     "data": {
      "text/html": [
       "<div>\n",
       "<table border=\"1\" class=\"dataframe\">\n",
       "  <thead>\n",
       "    <tr style=\"text-align: right;\">\n",
       "      <th></th>\n",
       "      <th>Title</th>\n",
       "      <th>Act</th>\n",
       "      <th>Scene</th>\n",
       "      <th>Speaker</th>\n",
       "      <th>Words</th>\n",
       "    </tr>\n",
       "  </thead>\n",
       "  <tbody>\n",
       "    <tr>\n",
       "      <th>0</th>\n",
       "      <td>Coriolanus</td>\n",
       "      <td>ACT I</td>\n",
       "      <td>SCENE I</td>\n",
       "      <td>first citizen</td>\n",
       "      <td>before we proceed any further  hear me speak  ...</td>\n",
       "    </tr>\n",
       "    <tr>\n",
       "      <th>1</th>\n",
       "      <td>Coriolanus</td>\n",
       "      <td>ACT I</td>\n",
       "      <td>SCENE I</td>\n",
       "      <td>all</td>\n",
       "      <td>speak  speak  resolved  resolved  we know't  w...</td>\n",
       "    </tr>\n",
       "    <tr>\n",
       "      <th>2</th>\n",
       "      <td>Coriolanus</td>\n",
       "      <td>ACT I</td>\n",
       "      <td>SCENE I</td>\n",
       "      <td>second citizen</td>\n",
       "      <td>one word  good citizens  would you proceed esp...</td>\n",
       "    </tr>\n",
       "    <tr>\n",
       "      <th>3</th>\n",
       "      <td>Coriolanus</td>\n",
       "      <td>ACT I</td>\n",
       "      <td>SCENE I</td>\n",
       "      <td>menenius</td>\n",
       "      <td>what work's  my countrymen  in hand  where go ...</td>\n",
       "    </tr>\n",
       "    <tr>\n",
       "      <th>4</th>\n",
       "      <td>Coriolanus</td>\n",
       "      <td>ACT I</td>\n",
       "      <td>SCENE I</td>\n",
       "      <td>marcius</td>\n",
       "      <td>thanks  what's the matter  you dissentious rog...</td>\n",
       "    </tr>\n",
       "    <tr>\n",
       "      <th>5</th>\n",
       "      <td>Coriolanus</td>\n",
       "      <td>ACT I</td>\n",
       "      <td>SCENE I</td>\n",
       "      <td>messenger</td>\n",
       "      <td>where's caius marcius  the news is  sir  the v...</td>\n",
       "    </tr>\n",
       "    <tr>\n",
       "      <th>6</th>\n",
       "      <td>Coriolanus</td>\n",
       "      <td>ACT I</td>\n",
       "      <td>SCENE I</td>\n",
       "      <td>first senator</td>\n",
       "      <td>marcius  'tis true that you have lately told u...</td>\n",
       "    </tr>\n",
       "    <tr>\n",
       "      <th>7</th>\n",
       "      <td>Coriolanus</td>\n",
       "      <td>ACT I</td>\n",
       "      <td>SCENE I</td>\n",
       "      <td>cominius</td>\n",
       "      <td>you have fought together  it is your former pr...</td>\n",
       "    </tr>\n",
       "    <tr>\n",
       "      <th>8</th>\n",
       "      <td>Coriolanus</td>\n",
       "      <td>ACT I</td>\n",
       "      <td>SCENE I</td>\n",
       "      <td>titus</td>\n",
       "      <td>no  caius marcius  i'll lean upon one crutch a...</td>\n",
       "    </tr>\n",
       "    <tr>\n",
       "      <th>9</th>\n",
       "      <td>Coriolanus</td>\n",
       "      <td>ACT I</td>\n",
       "      <td>SCENE I</td>\n",
       "      <td>sicinius</td>\n",
       "      <td>was ever man so proud as is this marcius  when...</td>\n",
       "    </tr>\n",
       "  </tbody>\n",
       "</table>\n",
       "</div>"
      ],
      "text/plain": [
       "        Title    Act    Scene         Speaker  \\\n",
       "0  Coriolanus  ACT I  SCENE I   first citizen   \n",
       "1  Coriolanus  ACT I  SCENE I             all   \n",
       "2  Coriolanus  ACT I  SCENE I  second citizen   \n",
       "3  Coriolanus  ACT I  SCENE I        menenius   \n",
       "4  Coriolanus  ACT I  SCENE I         marcius   \n",
       "5  Coriolanus  ACT I  SCENE I       messenger   \n",
       "6  Coriolanus  ACT I  SCENE I   first senator   \n",
       "7  Coriolanus  ACT I  SCENE I        cominius   \n",
       "8  Coriolanus  ACT I  SCENE I           titus   \n",
       "9  Coriolanus  ACT I  SCENE I        sicinius   \n",
       "\n",
       "                                               Words  \n",
       "0  before we proceed any further  hear me speak  ...  \n",
       "1  speak  speak  resolved  resolved  we know't  w...  \n",
       "2  one word  good citizens  would you proceed esp...  \n",
       "3  what work's  my countrymen  in hand  where go ...  \n",
       "4  thanks  what's the matter  you dissentious rog...  \n",
       "5  where's caius marcius  the news is  sir  the v...  \n",
       "6  marcius  'tis true that you have lately told u...  \n",
       "7  you have fought together  it is your former pr...  \n",
       "8  no  caius marcius  i'll lean upon one crutch a...  \n",
       "9  was ever man so proud as is this marcius  when...  "
      ]
     },
     "execution_count": 479,
     "metadata": {},
     "output_type": "execute_result"
    }
   ],
   "source": [
    "data.Words = data.Words.str.replace(\"[^a-zA-Z]\", \" \")\n",
    "data.Words = data.Words.str.lower()\n",
    "print('DataFrame dimensions:', data.shape)\n",
    "print('Reference dimensions:', ref.shape)\n",
    "data.head(10)"
   ]
  },
  {
   "cell_type": "markdown",
   "metadata": {},
   "source": [
    "<a id='stemming'></a>\n",
    "[back to top](#top)"
   ]
  },
  {
   "cell_type": "markdown",
   "metadata": {},
   "source": [
    "## Stemming"
   ]
  },
  {
   "cell_type": "code",
   "execution_count": 473,
   "metadata": {
    "collapsed": false
   },
   "outputs": [],
   "source": [
    "porter = PorterStemmer()\n",
    "\n",
    "def tokenizer_porter(text):\n",
    "    #for word in text.split():\n",
    "    #    print(word, porter.stem(word))\n",
    "    return [porter.stem(word) for word in text.split()]\n",
    "\n",
    "def tokenizer_vanilla(text):\n",
    "    return [word for word in text.split()]"
   ]
  },
  {
   "cell_type": "markdown",
   "metadata": {},
   "source": [
    "<a id='tf-idf'></a>\n",
    "[back to top](#top)"
   ]
  },
  {
   "cell_type": "markdown",
   "metadata": {},
   "source": [
    "## Feature extraction using TF-IDF"
   ]
  },
  {
   "cell_type": "code",
   "execution_count": 485,
   "metadata": {
    "collapsed": false
   },
   "outputs": [],
   "source": [
    "all_stopwords = stopwords.words('english')\n",
    "vectorizer = TfidfVectorizer(tokenizer = tokenizer_vanilla,\n",
    "                             stop_words=all_stopwords,\n",
    "                             use_idf=False,\n",
    "                             max_features = 100,ngram_range=(1,1))\n",
    "train_data_features = vectorizer.fit_transform(data.Words.values)\n",
    "train_data_features = train_data_features.A #toarray()  \n",
    "vocab = vectorizer.get_feature_names()"
   ]
  },
  {
   "cell_type": "code",
   "execution_count": 490,
   "metadata": {
    "collapsed": false
   },
   "outputs": [
    {
     "name": "stdout",
     "output_type": "stream",
     "text": [
      "(3974, 100)\n"
     ]
    },
    {
     "data": {
      "text/html": [
       "<div>\n",
       "<table border=\"1\" class=\"dataframe\">\n",
       "  <thead>\n",
       "    <tr style=\"text-align: right;\">\n",
       "      <th></th>\n",
       "      <th>'</th>\n",
       "      <th>'tis</th>\n",
       "      <th>art</th>\n",
       "      <th>away</th>\n",
       "      <th>ay</th>\n",
       "      <th>bear</th>\n",
       "      <th>better</th>\n",
       "      <th>blood</th>\n",
       "      <th>brother</th>\n",
       "      <th>call</th>\n",
       "      <th>...</th>\n",
       "      <th>true</th>\n",
       "      <th>two</th>\n",
       "      <th>upon</th>\n",
       "      <th>us</th>\n",
       "      <th>way</th>\n",
       "      <th>well</th>\n",
       "      <th>whose</th>\n",
       "      <th>world</th>\n",
       "      <th>would</th>\n",
       "      <th>yet</th>\n",
       "    </tr>\n",
       "  </thead>\n",
       "  <tbody>\n",
       "    <tr>\n",
       "      <th>0</th>\n",
       "      <td>0.000000</td>\n",
       "      <td>0.0</td>\n",
       "      <td>0.000000</td>\n",
       "      <td>0.000000</td>\n",
       "      <td>0.061663</td>\n",
       "      <td>0.061663</td>\n",
       "      <td>0.0</td>\n",
       "      <td>0.000000</td>\n",
       "      <td>0.0</td>\n",
       "      <td>0.000000</td>\n",
       "      <td>...</td>\n",
       "      <td>0.061663</td>\n",
       "      <td>0.0</td>\n",
       "      <td>0.000000</td>\n",
       "      <td>0.678289</td>\n",
       "      <td>0.000000</td>\n",
       "      <td>0.308313</td>\n",
       "      <td>0.000000</td>\n",
       "      <td>0.000000</td>\n",
       "      <td>0.184988</td>\n",
       "      <td>0.123325</td>\n",
       "    </tr>\n",
       "    <tr>\n",
       "      <th>1</th>\n",
       "      <td>0.000000</td>\n",
       "      <td>0.0</td>\n",
       "      <td>0.000000</td>\n",
       "      <td>0.516398</td>\n",
       "      <td>0.000000</td>\n",
       "      <td>0.000000</td>\n",
       "      <td>0.0</td>\n",
       "      <td>0.000000</td>\n",
       "      <td>0.0</td>\n",
       "      <td>0.000000</td>\n",
       "      <td>...</td>\n",
       "      <td>0.000000</td>\n",
       "      <td>0.0</td>\n",
       "      <td>0.000000</td>\n",
       "      <td>0.000000</td>\n",
       "      <td>0.000000</td>\n",
       "      <td>0.000000</td>\n",
       "      <td>0.000000</td>\n",
       "      <td>0.000000</td>\n",
       "      <td>0.000000</td>\n",
       "      <td>0.000000</td>\n",
       "    </tr>\n",
       "    <tr>\n",
       "      <th>2</th>\n",
       "      <td>0.000000</td>\n",
       "      <td>0.0</td>\n",
       "      <td>0.000000</td>\n",
       "      <td>0.000000</td>\n",
       "      <td>0.000000</td>\n",
       "      <td>0.000000</td>\n",
       "      <td>0.0</td>\n",
       "      <td>0.000000</td>\n",
       "      <td>0.0</td>\n",
       "      <td>0.000000</td>\n",
       "      <td>...</td>\n",
       "      <td>0.000000</td>\n",
       "      <td>0.0</td>\n",
       "      <td>0.000000</td>\n",
       "      <td>0.000000</td>\n",
       "      <td>0.267261</td>\n",
       "      <td>0.000000</td>\n",
       "      <td>0.000000</td>\n",
       "      <td>0.000000</td>\n",
       "      <td>0.267261</td>\n",
       "      <td>0.000000</td>\n",
       "    </tr>\n",
       "    <tr>\n",
       "      <th>3</th>\n",
       "      <td>0.211604</td>\n",
       "      <td>0.0</td>\n",
       "      <td>0.070535</td>\n",
       "      <td>0.000000</td>\n",
       "      <td>0.000000</td>\n",
       "      <td>0.000000</td>\n",
       "      <td>0.0</td>\n",
       "      <td>0.141069</td>\n",
       "      <td>0.0</td>\n",
       "      <td>0.000000</td>\n",
       "      <td>...</td>\n",
       "      <td>0.070535</td>\n",
       "      <td>0.0</td>\n",
       "      <td>0.070535</td>\n",
       "      <td>0.000000</td>\n",
       "      <td>0.141069</td>\n",
       "      <td>0.282138</td>\n",
       "      <td>0.070535</td>\n",
       "      <td>0.000000</td>\n",
       "      <td>0.000000</td>\n",
       "      <td>0.141069</td>\n",
       "    </tr>\n",
       "    <tr>\n",
       "      <th>4</th>\n",
       "      <td>0.000000</td>\n",
       "      <td>0.0</td>\n",
       "      <td>0.082761</td>\n",
       "      <td>0.000000</td>\n",
       "      <td>0.000000</td>\n",
       "      <td>0.000000</td>\n",
       "      <td>0.0</td>\n",
       "      <td>0.000000</td>\n",
       "      <td>0.0</td>\n",
       "      <td>0.082761</td>\n",
       "      <td>...</td>\n",
       "      <td>0.000000</td>\n",
       "      <td>0.0</td>\n",
       "      <td>0.331042</td>\n",
       "      <td>0.000000</td>\n",
       "      <td>0.000000</td>\n",
       "      <td>0.082761</td>\n",
       "      <td>0.082761</td>\n",
       "      <td>0.082761</td>\n",
       "      <td>0.496564</td>\n",
       "      <td>0.000000</td>\n",
       "    </tr>\n",
       "  </tbody>\n",
       "</table>\n",
       "<p>5 rows × 100 columns</p>\n",
       "</div>"
      ],
      "text/plain": [
       "          '  'tis       art      away        ay      bear  better     blood  \\\n",
       "0  0.000000   0.0  0.000000  0.000000  0.061663  0.061663     0.0  0.000000   \n",
       "1  0.000000   0.0  0.000000  0.516398  0.000000  0.000000     0.0  0.000000   \n",
       "2  0.000000   0.0  0.000000  0.000000  0.000000  0.000000     0.0  0.000000   \n",
       "3  0.211604   0.0  0.070535  0.000000  0.000000  0.000000     0.0  0.141069   \n",
       "4  0.000000   0.0  0.082761  0.000000  0.000000  0.000000     0.0  0.000000   \n",
       "\n",
       "   brother      call    ...         true  two      upon        us       way  \\\n",
       "0      0.0  0.000000    ...     0.061663  0.0  0.000000  0.678289  0.000000   \n",
       "1      0.0  0.000000    ...     0.000000  0.0  0.000000  0.000000  0.000000   \n",
       "2      0.0  0.000000    ...     0.000000  0.0  0.000000  0.000000  0.267261   \n",
       "3      0.0  0.000000    ...     0.070535  0.0  0.070535  0.000000  0.141069   \n",
       "4      0.0  0.082761    ...     0.000000  0.0  0.331042  0.000000  0.000000   \n",
       "\n",
       "       well     whose     world     would       yet  \n",
       "0  0.308313  0.000000  0.000000  0.184988  0.123325  \n",
       "1  0.000000  0.000000  0.000000  0.000000  0.000000  \n",
       "2  0.000000  0.000000  0.000000  0.267261  0.000000  \n",
       "3  0.282138  0.070535  0.000000  0.000000  0.141069  \n",
       "4  0.082761  0.082761  0.082761  0.496564  0.000000  \n",
       "\n",
       "[5 rows x 100 columns]"
      ]
     },
     "execution_count": 490,
     "metadata": {},
     "output_type": "execute_result"
    }
   ],
   "source": [
    "df = pd.DataFrame(data=train_data_features,columns=vocab)\n",
    "print(df.shape)\n",
    "df.head()"
   ]
  },
  {
   "cell_type": "markdown",
   "metadata": {},
   "source": [
    "<a id='mds'></a>\n",
    "[back to top](#top)"
   ]
  },
  {
   "cell_type": "markdown",
   "metadata": {},
   "source": [
    "## MDS"
   ]
  },
  {
   "cell_type": "code",
   "execution_count": 491,
   "metadata": {
    "collapsed": false
   },
   "outputs": [
    {
     "name": "stdout",
     "output_type": "stream",
     "text": [
      "(3974, 3974) (3974, 3974)\n"
     ]
    }
   ],
   "source": [
    "CS_dist = 1 - cosine_similarity(train_data_features)\n",
    "Euclid_dist = euclidean_distances(train_data_features)\n",
    "print(Euclid_dist.shape, CS_dist.shape)"
   ]
  },
  {
   "cell_type": "code",
   "execution_count": null,
   "metadata": {
    "collapsed": true
   },
   "outputs": [],
   "source": []
  },
  {
   "cell_type": "code",
   "execution_count": null,
   "metadata": {
    "collapsed": true
   },
   "outputs": [],
   "source": []
  },
  {
   "cell_type": "code",
   "execution_count": null,
   "metadata": {
    "collapsed": true
   },
   "outputs": [],
   "source": []
  },
  {
   "cell_type": "code",
   "execution_count": null,
   "metadata": {
    "collapsed": false
   },
   "outputs": [],
   "source": []
  },
  {
   "cell_type": "code",
   "execution_count": null,
   "metadata": {
    "collapsed": false
   },
   "outputs": [],
   "source": []
  },
  {
   "cell_type": "code",
   "execution_count": 357,
   "metadata": {
    "collapsed": false
   },
   "outputs": [
    {
     "name": "stdout",
     "output_type": "stream",
     "text": [
      "Missing from mine: 296\n",
      "Missing from ref: 178\n"
     ]
    }
   ],
   "source": [
    "missing_from_mine = []\n",
    "missing_from_ref = []\n",
    "have = data['Speaker'].unique()\n",
    "check = ref['Speaker'].unique()\n",
    "check = [x.lower() for x in check]\n",
    "for x in check:\n",
    "    if x not in have:\n",
    "        missing_from_mine.append(x)\n",
    "for x in have:\n",
    "    if x not in check:\n",
    "        missing_from_ref.append(x)\n",
    "print('Missing from mine:', len(missing_from_mine))\n",
    "print('Missing from ref:', len(missing_from_ref))"
   ]
  },
  {
   "cell_type": "code",
   "execution_count": null,
   "metadata": {
    "collapsed": true
   },
   "outputs": [],
   "source": []
  }
 ],
 "metadata": {
  "anaconda-cloud": {},
  "kernelspec": {
   "display_name": "Python 3",
   "language": "python",
   "name": "python3"
  },
  "language_info": {
   "codemirror_mode": {
    "name": "ipython",
    "version": 3
   },
   "file_extension": ".py",
   "mimetype": "text/x-python",
   "name": "python",
   "nbconvert_exporter": "python",
   "pygments_lexer": "ipython3",
   "version": "3.5.2"
  }
 },
 "nbformat": 4,
 "nbformat_minor": 1
}
