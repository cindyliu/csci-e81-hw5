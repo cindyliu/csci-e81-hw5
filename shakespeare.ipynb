{
 "cells": [
  {
   "cell_type": "markdown",
   "metadata": {},
   "source": [
    "# CSCI E-81 HW5 - Partners: Piyawan Chirayus and Cindy Liu"
   ]
  },
  {
   "cell_type": "code",
   "execution_count": 1,
   "metadata": {
    "collapsed": false
   },
   "outputs": [
    {
     "name": "stderr",
     "output_type": "stream",
     "text": [
      "/Users/cindy.liu/Desktop/cindy/e81/e81-venv/lib/python3.5/site-packages/sklearn/cross_validation.py:44: DeprecationWarning: This module was deprecated in version 0.18 in favor of the model_selection module into which all the refactored classes and functions are moved. Also note that the interface of the new CV iterators are different from that of this module. This module will be removed in 0.20.\n",
      "  \"This module will be removed in 0.20.\", DeprecationWarning)\n"
     ]
    }
   ],
   "source": [
    "import re\n",
    "import requests  # pip install requests\n",
    "from bs4 import BeautifulSoup\n",
    "\n",
    "%matplotlib inline\n",
    "import numpy as np\n",
    "import scipy as sp\n",
    "import pandas as pd\n",
    "\n",
    "from sklearn import cluster\n",
    "from sklearn.cluster import KMeans\n",
    "from sklearn import metrics\n",
    "from sklearn.metrics import silhouette_samples, silhouette_score\n",
    "from sklearn.metrics.pairwise import cosine_similarity, euclidean_distances\n",
    "from sklearn.feature_extraction.text import TfidfVectorizer\n",
    "from sklearn.manifold import MDS\n",
    "\n",
    "from nltk.corpus import stopwords\n",
    "from nltk.stem.porter import PorterStemmer\n",
    "\n",
    "import matplotlib.pyplot as plt\n",
    "from mpl_toolkits.mplot3d import Axes3D\n",
    "\n",
    "from sklearn.discriminant_analysis import LinearDiscriminantAnalysis\n",
    "from sklearn.metrics import accuracy_score\n",
    "from sklearn.cross_validation import train_test_split"
   ]
  },
  {
   "cell_type": "code",
   "execution_count": 2,
   "metadata": {
    "collapsed": false,
    "scrolled": false
   },
   "outputs": [
    {
     "name": "stdout",
     "output_type": "stream",
     "text": [
      "Getting All's Well That Ends Well from http://shakespeare.mit.edu/allswell/full.html\n",
      "Getting As You Like It from http://shakespeare.mit.edu/asyoulikeit/full.html\n",
      "Getting The Comedy of Errors from http://shakespeare.mit.edu/comedy_errors/full.html\n",
      "Getting Cymbeline from http://shakespeare.mit.edu/cymbeline/full.html\n",
      "Getting Love's Labours Lost from http://shakespeare.mit.edu/lll/full.html\n",
      "Getting Measure for Measure from http://shakespeare.mit.edu/measure/full.html\n",
      "Getting The Merry Wives of Windsor from http://shakespeare.mit.edu/merry_wives/full.html\n",
      "Getting The Merchant of Venice from http://shakespeare.mit.edu/merchant/full.html\n",
      "Getting A Midsummer Night's Dream from http://shakespeare.mit.edu/midsummer/full.html\n",
      "Getting Much Ado About Nothing from http://shakespeare.mit.edu/much_ado/full.html\n",
      "Getting Pericles, Prince of Tyre from http://shakespeare.mit.edu/pericles/full.html\n",
      "Getting Taming of the Shrew from http://shakespeare.mit.edu/taming_shrew/full.html\n",
      "Getting The Tempest from http://shakespeare.mit.edu/tempest/full.html\n",
      "Getting Troilus and Cressida from http://shakespeare.mit.edu/troilus_cressida/full.html\n",
      "Getting Twelfth Night from http://shakespeare.mit.edu/twelfth_night/full.html\n",
      "Getting Two Gentlemen of Verona from http://shakespeare.mit.edu/two_gentlemen/full.html\n",
      "Getting Winter's Tale from http://shakespeare.mit.edu/winters_tale/full.html\n",
      "Getting Henry IV, part 1 from http://shakespeare.mit.edu/1henryiv/full.html\n",
      "Getting Henry IV, part 2 from http://shakespeare.mit.edu/2henryiv/full.html\n",
      "Getting Henry V from http://shakespeare.mit.edu/henryv/full.html\n",
      "Getting Henry VI, part 1 from http://shakespeare.mit.edu/1henryvi/full.html\n",
      "Getting Henry VI, part 2 from http://shakespeare.mit.edu/2henryvi/full.html\n",
      "Getting Henry VI, part 3 from http://shakespeare.mit.edu/3henryvi/full.html\n",
      "Getting Henry VIII from http://shakespeare.mit.edu/henryviii/full.html\n",
      "Getting King John from http://shakespeare.mit.edu/john/full.html\n",
      "Getting Richard II from http://shakespeare.mit.edu/richardii/full.html\n",
      "Getting Richard III from http://shakespeare.mit.edu/richardiii/full.html\n",
      "Getting Antony and Cleopatra from http://shakespeare.mit.edu/cleopatra/full.html\n",
      "Getting Coriolanus from http://shakespeare.mit.edu/coriolanus/full.html\n",
      "Getting Hamlet from http://shakespeare.mit.edu/hamlet/full.html\n",
      "Getting Julius Caesar from http://shakespeare.mit.edu/julius_caesar/full.html\n",
      "Getting King Lear from http://shakespeare.mit.edu/lear/full.html\n",
      "Getting Macbeth from http://shakespeare.mit.edu/macbeth/full.html\n",
      "Getting Othello from http://shakespeare.mit.edu/othello/full.html\n",
      "Getting Romeo and Juliet from http://shakespeare.mit.edu/romeo_juliet/full.html\n",
      "Getting Timon of Athens from http://shakespeare.mit.edu/timon/full.html\n",
      "Getting Titus Andronicus from http://shakespeare.mit.edu/titus/full.html\n"
     ]
    }
   ],
   "source": [
    "BASE_URL = 'http://shakespeare.mit.edu/'\n",
    "\n",
    "r = requests.get(BASE_URL)\n",
    "assert(r.status_code == 200)\n",
    "\n",
    "soup = BeautifulSoup(r.content, 'html.parser')\n",
    "table = soup.find_all('table')[1]\n",
    "titles = {}\n",
    "for link in table.find_all('a'):\n",
    "    if 'Poetry' not in link.get('href'):\n",
    "        if '\\n' in link.string:\n",
    "            link.string = link.string.replace('\\n', ' ').strip()\n",
    "        href = link.get('href').replace('index', 'full')\n",
    "        send_url = BASE_URL + href\n",
    "        print('Getting {} from {}'.format(link.string, send_url))\n",
    "        r = requests.get(send_url)\n",
    "        assert(r.status_code == 200)\n",
    "        titles[link.string] = {\n",
    "            'href': href,\n",
    "            'soup': BeautifulSoup(r.content, 'html.parser')\n",
    "        }"
   ]
  },
  {
   "cell_type": "code",
   "execution_count": 291,
   "metadata": {
    "collapsed": false,
    "scrolled": false
   },
   "outputs": [
    {
     "name": "stdout",
     "output_type": "stream",
     "text": [
      "Coriolanus\n",
      "Measure for Measure\n",
      "Richard II\n",
      "Cymbeline\n",
      "King Lear\n",
      "Timon of Athens\n",
      "All's Well That Ends Well\n",
      "The Tempest\n",
      "Two Gentlemen of Verona\n",
      "Henry VI, part 3\n",
      "Henry VIII\n",
      "Richard III\n",
      "Romeo and Juliet\n",
      "The Merry Wives of Windsor\n",
      "Hamlet\n",
      "Henry IV, part 2\n",
      "As You Like It\n",
      "Henry IV, part 1\n",
      "Taming of the Shrew\n",
      "Troilus and Cressida\n",
      "Titus Andronicus\n",
      "Love's Labours Lost\n",
      "Othello\n",
      "The Merchant of Venice\n",
      "Pericles, Prince of Tyre\n",
      "Henry V\n",
      "Macbeth\n",
      "A Midsummer Night's Dream\n",
      "Henry VI, part 2\n",
      "Henry VI, part 1\n",
      "Winter's Tale\n",
      "King John\n",
      "Julius Caesar\n",
      "The Comedy of Errors\n",
      "Much Ado About Nothing\n",
      "Twelfth Night\n",
      "Antony and Cleopatra\n"
     ]
    }
   ],
   "source": [
    "COLUMN_NAMES = ['Title','Act','Scene','Speaker','Words']\n",
    "\n",
    "\n",
    "def add_data(df, title, act, scene, speaker, words):\n",
    "    if speaker in df['Speaker'].values:\n",
    "        index = (df['Speaker'] == speaker).argmax()\n",
    "        if df['Title'][index] == title and df['Act'][index] == act and df['Scene'][index] == scene:\n",
    "            df.set_value(index, 'Words', df['Words'][index] + ' ' + words)\n",
    "            return df\n",
    "    new_row = pd.DataFrame([[title, act, scene, speaker, words]], columns=COLUMN_NAMES)\n",
    "    df = df.append(new_row, ignore_index=True)\n",
    "    return df\n",
    "\n",
    "\n",
    "data = pd.DataFrame([], columns=COLUMN_NAMES)\n",
    "for title in titles:\n",
    "    print(title)\n",
    "    act = titles[title]['soup'].find('h3')\n",
    "    scene = speaker = words = ''\n",
    "    if act.string[:3] != 'ACT':\n",
    "        scene = act.string.split('.')[0]\n",
    "        act.string = 'None'\n",
    "    for elem in act.next_elements:\n",
    "        if elem.name == 'h3':\n",
    "            if words:\n",
    "                data = add_data(data, title, act.string, scene, speaker, words)\n",
    "                words = ''\n",
    "            if elem.string[:3] == 'ACT':\n",
    "                act = elem\n",
    "            else:\n",
    "                scene = elem.string.split('.')[0]\n",
    "        if elem.name == 'a':\n",
    "            if elem.attrs['name'][:6] == 'speech':\n",
    "                if words:\n",
    "                    data = add_data(data, title, act.string, scene, speaker, words)\n",
    "                    words = ''\n",
    "                speaker = elem.string.lower()\n",
    "            else:\n",
    "                if words:\n",
    "                    words += ' ' + elem.string.strip()\n",
    "                else:\n",
    "                    words += elem.string.strip()"
   ]
  },
  {
   "cell_type": "code",
   "execution_count": 269,
   "metadata": {
    "collapsed": false
   },
   "outputs": [
    {
     "data": {
      "text/html": [
       "<div>\n",
       "<table border=\"1\" class=\"dataframe\">\n",
       "  <thead>\n",
       "    <tr style=\"text-align: right;\">\n",
       "      <th></th>\n",
       "      <th>Speaker</th>\n",
       "      <th>Gender</th>\n",
       "      <th>NumLines</th>\n",
       "      <th>Play</th>\n",
       "      <th>TopVillain</th>\n",
       "      <th>Fools</th>\n",
       "    </tr>\n",
       "  </thead>\n",
       "  <tbody>\n",
       "    <tr>\n",
       "      <th>0</th>\n",
       "      <td>Hamlet</td>\n",
       "      <td>Male</td>\n",
       "      <td>1506</td>\n",
       "      <td>Hamlet</td>\n",
       "      <td>NaN</td>\n",
       "      <td>NaN</td>\n",
       "    </tr>\n",
       "    <tr>\n",
       "      <th>1</th>\n",
       "      <td>Iago</td>\n",
       "      <td>Male</td>\n",
       "      <td>1088</td>\n",
       "      <td>Othello</td>\n",
       "      <td>yes</td>\n",
       "      <td>NaN</td>\n",
       "    </tr>\n",
       "    <tr>\n",
       "      <th>2</th>\n",
       "      <td>King Henry</td>\n",
       "      <td>Male</td>\n",
       "      <td>1031</td>\n",
       "      <td>Henry V</td>\n",
       "      <td>NaN</td>\n",
       "      <td>NaN</td>\n",
       "    </tr>\n",
       "    <tr>\n",
       "      <th>3</th>\n",
       "      <td>Othello</td>\n",
       "      <td>Male</td>\n",
       "      <td>880</td>\n",
       "      <td>Othello</td>\n",
       "      <td>NaN</td>\n",
       "      <td>NaN</td>\n",
       "    </tr>\n",
       "    <tr>\n",
       "      <th>4</th>\n",
       "      <td>Timon</td>\n",
       "      <td>Male</td>\n",
       "      <td>850</td>\n",
       "      <td>Timon of Athens</td>\n",
       "      <td>NaN</td>\n",
       "      <td>NaN</td>\n",
       "    </tr>\n",
       "  </tbody>\n",
       "</table>\n",
       "</div>"
      ],
      "text/plain": [
       "      Speaker Gender  NumLines             Play TopVillain Fools\n",
       "0      Hamlet   Male      1506           Hamlet        NaN   NaN\n",
       "1        Iago   Male      1088          Othello        yes   NaN\n",
       "2  King Henry   Male      1031          Henry V        NaN   NaN\n",
       "3     Othello   Male       880          Othello        NaN   NaN\n",
       "4       Timon   Male       850  Timon of Athens        NaN   NaN"
      ]
     },
     "execution_count": 269,
     "metadata": {},
     "output_type": "execute_result"
    }
   ],
   "source": [
    "ref = pd.read_table('Shakespeare_characters.txt', header=0, encoding='latin-1')\n",
    "del ref['Unnamed: 1']\n",
    "ref = ref.set_value((ref['Speaker'] == 'Lafew').argmax(), 'Speaker', 'Lafeu')\n",
    "ref.head()"
   ]
  },
  {
   "cell_type": "code",
   "execution_count": 292,
   "metadata": {
    "collapsed": false
   },
   "outputs": [
    {
     "data": {
      "text/html": [
       "<div>\n",
       "<table border=\"1\" class=\"dataframe\">\n",
       "  <thead>\n",
       "    <tr style=\"text-align: right;\">\n",
       "      <th></th>\n",
       "      <th>Title</th>\n",
       "      <th>Act</th>\n",
       "      <th>Scene</th>\n",
       "      <th>Speaker</th>\n",
       "      <th>Words</th>\n",
       "    </tr>\n",
       "  </thead>\n",
       "  <tbody>\n",
       "    <tr>\n",
       "      <th>0</th>\n",
       "      <td>Coriolanus</td>\n",
       "      <td>ACT I</td>\n",
       "      <td>SCENE I</td>\n",
       "      <td>first citizen</td>\n",
       "      <td>Before we proceed any further, hear me speak. ...</td>\n",
       "    </tr>\n",
       "    <tr>\n",
       "      <th>1</th>\n",
       "      <td>Coriolanus</td>\n",
       "      <td>ACT I</td>\n",
       "      <td>SCENE I</td>\n",
       "      <td>all</td>\n",
       "      <td>Speak, speak. Resolved. resolved. We know't, w...</td>\n",
       "    </tr>\n",
       "    <tr>\n",
       "      <th>2</th>\n",
       "      <td>Coriolanus</td>\n",
       "      <td>ACT I</td>\n",
       "      <td>SCENE I</td>\n",
       "      <td>second citizen</td>\n",
       "      <td>One word, good citizens. Would you proceed esp...</td>\n",
       "    </tr>\n",
       "    <tr>\n",
       "      <th>3</th>\n",
       "      <td>Coriolanus</td>\n",
       "      <td>ACT I</td>\n",
       "      <td>SCENE I</td>\n",
       "      <td>menenius</td>\n",
       "      <td>What work's, my countrymen, in hand? where go ...</td>\n",
       "    </tr>\n",
       "    <tr>\n",
       "      <th>4</th>\n",
       "      <td>Coriolanus</td>\n",
       "      <td>ACT I</td>\n",
       "      <td>SCENE I</td>\n",
       "      <td>marcius</td>\n",
       "      <td>Thanks. What's the matter, you dissentious rog...</td>\n",
       "    </tr>\n",
       "  </tbody>\n",
       "</table>\n",
       "</div>"
      ],
      "text/plain": [
       "        Title    Act    Scene         Speaker  \\\n",
       "0  Coriolanus  ACT I  SCENE I   first citizen   \n",
       "1  Coriolanus  ACT I  SCENE I             all   \n",
       "2  Coriolanus  ACT I  SCENE I  second citizen   \n",
       "3  Coriolanus  ACT I  SCENE I        menenius   \n",
       "4  Coriolanus  ACT I  SCENE I         marcius   \n",
       "\n",
       "                                               Words  \n",
       "0  Before we proceed any further, hear me speak. ...  \n",
       "1  Speak, speak. Resolved. resolved. We know't, w...  \n",
       "2  One word, good citizens. Would you proceed esp...  \n",
       "3  What work's, my countrymen, in hand? where go ...  \n",
       "4  Thanks. What's the matter, you dissentious rog...  "
      ]
     },
     "execution_count": 292,
     "metadata": {},
     "output_type": "execute_result"
    }
   ],
   "source": [
    "data.head()"
   ]
  },
  {
   "cell_type": "code",
   "execution_count": null,
   "metadata": {
    "collapsed": false
   },
   "outputs": [],
   "source": []
  },
  {
   "cell_type": "code",
   "execution_count": 350,
   "metadata": {
    "collapsed": false
   },
   "outputs": [
    {
     "name": "stdout",
     "output_type": "stream",
     "text": [
      "(25085, 5)\n",
      "(1533, 6)\n"
     ]
    }
   ],
   "source": [
    "print(data.shape)\n",
    "print(ref.shape)"
   ]
  },
  {
   "cell_type": "code",
   "execution_count": null,
   "metadata": {
    "collapsed": false
   },
   "outputs": [],
   "source": []
  },
  {
   "cell_type": "code",
   "execution_count": 349,
   "metadata": {
    "collapsed": false
   },
   "outputs": [
    {
     "name": "stdout",
     "output_type": "stream",
     "text": [
      "Missing from mine: 296\n",
      "Missing from ref: 178\n"
     ]
    }
   ],
   "source": [
    "missing_from_mine = []\n",
    "missing_from_ref = []\n",
    "have = data['Speaker'].unique()\n",
    "check = ref['Speaker'].unique()\n",
    "check = [x.lower() for x in check]\n",
    "for x in check:\n",
    "    if x not in have:\n",
    "        missing_from_mine.append(x)\n",
    "for x in have:\n",
    "    if x not in check:\n",
    "        missing_from_ref.append(x)\n",
    "print('Missing from mine:', len(missing_from_mine))\n",
    "print('Missing from ref:', len(missing_from_ref))"
   ]
  },
  {
   "cell_type": "code",
   "execution_count": null,
   "metadata": {
    "collapsed": true
   },
   "outputs": [],
   "source": []
  }
 ],
 "metadata": {
  "anaconda-cloud": {},
  "kernelspec": {
   "display_name": "Python [default]",
   "language": "python",
   "name": "python3"
  },
  "language_info": {
   "codemirror_mode": {
    "name": "ipython",
    "version": 3
   },
   "file_extension": ".py",
   "mimetype": "text/x-python",
   "name": "python",
   "nbconvert_exporter": "python",
   "pygments_lexer": "ipython3",
   "version": "3.5.2"
  }
 },
 "nbformat": 4,
 "nbformat_minor": 1
}
